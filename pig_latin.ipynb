{
 "cells": [
  {
   "cell_type": "markdown",
   "metadata": {},
   "source": [
    "# Pig Latin\n",
    "<hr>\n",
    "\n",
    "## Author\n",
    "Sebastián Felipe Tamayo Proaño\n",
    "## Objective\n",
    "Recreate Pig Latin which is a game of alterations played on the English language. To create the Pig Latin form of an English word the initial consonant sound is transposed to the end of the word and an ay is affixed (Ex.: \"banana\" would yield anana-bay)<br>For more information of the game, head to: <a href=\"https://en.wikipedia.org/wiki/Pig_Latin#Rules\">Rules and more!</a>\n",
    "## Programming language\n",
    "<ul>\n",
    "    <li>Python</li>\n",
    "</ul>\n",
    "\n",
    "## Libraries:"
   ]
  },
  {
   "cell_type": "code",
   "execution_count": 1,
   "metadata": {},
   "outputs": [],
   "source": [
    "import string"
   ]
  },
  {
   "cell_type": "markdown",
   "metadata": {},
   "source": [
    "## Code:"
   ]
  },
  {
   "cell_type": "code",
   "execution_count": 2,
   "metadata": {},
   "outputs": [],
   "source": [
    "# Global variable that defines all consonants.\n",
    "CONSONANTS = set(string.ascii_letters).difference(set(('a','e','i','o','u','A','E','I','O','U')))"
   ]
  },
  {
   "cell_type": "code",
   "execution_count": 3,
   "metadata": {},
   "outputs": [],
   "source": [
    "def pig_latin(text, encode = 0):    \n",
    "    '''\n",
    "    Function that enables the codification pig latin in text, it accepts two parameters:\n",
    "        text: is the text you want to turn into a pig latin format.\n",
    "        encode (optional): accept either 0 or any other numeric value:\n",
    "            0: Enable the common rule for vowels.\n",
    "            Other: Enable the alternative rule for vowels.\n",
    "    '''    \n",
    "    # Transform the text into a list.\n",
    "    text_list = text.split()\n",
    "    for word in text_list:\n",
    "        # Rules for words starting with consonants.\n",
    "        if word[0] in CONSONANTS:\n",
    "            temp = \"\"\n",
    "            # Verify if it starts with a consonant sound or a consonant cluster.\n",
    "            for letter in word:\n",
    "                if letter in CONSONANTS:\n",
    "                    temp += letter\n",
    "                else:\n",
    "                    break\n",
    "            # Rule for words starting with a consonant cluster.\n",
    "            if len(temp) > 1:\n",
    "                text_list[text_list.index(word)] = word[len(temp):] + temp + \"ay\"\n",
    "            # Rule for words starting with a consonant sound.\n",
    "            else:\n",
    "                text_list[text_list.index(word)] = word[1:] + temp + \"ay\"\n",
    "        # Rules for words starting with vowels.\n",
    "        else:\n",
    "            # Common rule for vowels\n",
    "            if encode == 0:\n",
    "                text_list[text_list.index(word)] = word + \"way\"\n",
    "            # Alternative rule for vowels: if the first letter is a vowel and its next letters are consonants.\n",
    "            else:\n",
    "                temp = word[0]\n",
    "                for letter in word[1:]:\n",
    "                    if letter in CONSONANTS:\n",
    "                        temp += letter\n",
    "                    else:\n",
    "                        break\n",
    "                text_list[text_list.index(word)] = word[len(temp):] + temp + \"ay\"\n",
    "    # Returns the list as a string.\n",
    "    return \" \".join(text_list).lower()"
   ]
  },
  {
   "cell_type": "markdown",
   "metadata": {},
   "source": [
    "## Examples:\n",
    "### Operating with **consonant sounds** rule"
   ]
  },
  {
   "cell_type": "code",
   "execution_count": 4,
   "metadata": {},
   "outputs": [],
   "source": [
    "cs_example_1 = \"pig\" # expected output -> igpay\n",
    "cs_example_2 = \"latin\" # expected output -> atinlay\n",
    "cs_example_3 = \"banana\" # expected output -> ananabay\n",
    "cs_example_4 = \"duck\" # expected output -> uckday"
   ]
  },
  {
   "cell_type": "code",
   "execution_count": 5,
   "metadata": {},
   "outputs": [
    {
     "name": "stdout",
     "output_type": "stream",
     "text": [
      "igpay\n"
     ]
    }
   ],
   "source": [
    "print(pig_latin(cs_example_1))"
   ]
  },
  {
   "cell_type": "code",
   "execution_count": 6,
   "metadata": {},
   "outputs": [
    {
     "name": "stdout",
     "output_type": "stream",
     "text": [
      "atinlay\n"
     ]
    }
   ],
   "source": [
    "print(pig_latin(cs_example_2))"
   ]
  },
  {
   "cell_type": "code",
   "execution_count": 7,
   "metadata": {},
   "outputs": [
    {
     "name": "stdout",
     "output_type": "stream",
     "text": [
      "ananabay\n"
     ]
    }
   ],
   "source": [
    "print(pig_latin(cs_example_3))"
   ]
  },
  {
   "cell_type": "code",
   "execution_count": 8,
   "metadata": {},
   "outputs": [
    {
     "name": "stdout",
     "output_type": "stream",
     "text": [
      "uckday\n"
     ]
    }
   ],
   "source": [
    "print(pig_latin(cs_example_4))"
   ]
  },
  {
   "cell_type": "markdown",
   "metadata": {},
   "source": [
    "### Operating with **consonant clusters** rule"
   ]
  },
  {
   "cell_type": "code",
   "execution_count": 9,
   "metadata": {},
   "outputs": [],
   "source": [
    "cc_example_1 = \"smile\" # expected output -> ilesmay\n",
    "cc_example_2 = \"string\" # expected output -> ingstray\n",
    "cc_example_3 = \"glove\" # expected output -> oveglay\n",
    "cc_example_4 = \"store\" # expected output -> orestay"
   ]
  },
  {
   "cell_type": "code",
   "execution_count": 10,
   "metadata": {},
   "outputs": [
    {
     "name": "stdout",
     "output_type": "stream",
     "text": [
      "ilesmay\n"
     ]
    }
   ],
   "source": [
    "print(pig_latin(cc_example_1))"
   ]
  },
  {
   "cell_type": "code",
   "execution_count": 11,
   "metadata": {},
   "outputs": [
    {
     "name": "stdout",
     "output_type": "stream",
     "text": [
      "ingstray\n"
     ]
    }
   ],
   "source": [
    "print(pig_latin(cc_example_2))"
   ]
  },
  {
   "cell_type": "code",
   "execution_count": 12,
   "metadata": {},
   "outputs": [
    {
     "name": "stdout",
     "output_type": "stream",
     "text": [
      "oveglay\n"
     ]
    }
   ],
   "source": [
    "print(pig_latin(cc_example_3))"
   ]
  },
  {
   "cell_type": "code",
   "execution_count": 13,
   "metadata": {},
   "outputs": [
    {
     "name": "stdout",
     "output_type": "stream",
     "text": [
      "orestay\n"
     ]
    }
   ],
   "source": [
    "print(pig_latin(cc_example_4))"
   ]
  },
  {
   "cell_type": "markdown",
   "metadata": {},
   "source": [
    "### Operating with **vowels common** rule"
   ]
  },
  {
   "cell_type": "code",
   "execution_count": 14,
   "metadata": {},
   "outputs": [],
   "source": [
    "vc_example_1 = \"eat\" # expected output -> eatyay\n",
    "vc_example_2 = \"egg\" # expected output -> eggyay\n",
    "vc_example_3 = \"always\" # expected output -> alwaysyay\n",
    "vc_example_4 = \"explain\" # expected output -> explainyay"
   ]
  },
  {
   "cell_type": "code",
   "execution_count": 15,
   "metadata": {},
   "outputs": [
    {
     "name": "stdout",
     "output_type": "stream",
     "text": [
      "eatway\n"
     ]
    }
   ],
   "source": [
    "print(pig_latin(vc_example_1))"
   ]
  },
  {
   "cell_type": "code",
   "execution_count": 16,
   "metadata": {},
   "outputs": [
    {
     "name": "stdout",
     "output_type": "stream",
     "text": [
      "eggway\n"
     ]
    }
   ],
   "source": [
    "print(pig_latin(vc_example_2))"
   ]
  },
  {
   "cell_type": "code",
   "execution_count": 17,
   "metadata": {},
   "outputs": [
    {
     "name": "stdout",
     "output_type": "stream",
     "text": [
      "alwaysway\n"
     ]
    }
   ],
   "source": [
    "print(pig_latin(vc_example_3))"
   ]
  },
  {
   "cell_type": "code",
   "execution_count": 18,
   "metadata": {},
   "outputs": [
    {
     "name": "stdout",
     "output_type": "stream",
     "text": [
      "explainway\n"
     ]
    }
   ],
   "source": [
    "print(pig_latin(vc_example_4))"
   ]
  },
  {
   "cell_type": "markdown",
   "metadata": {},
   "source": [
    "### Operating with **vowels alternative** rule"
   ]
  },
  {
   "cell_type": "code",
   "execution_count": 19,
   "metadata": {},
   "outputs": [],
   "source": [
    "va_example_1 = \"every\" # expected output -> eryevay\n",
    "va_example_2 = \"another\" # expected output -> otheranay\n",
    "va_example_3 = \"island\" # expected output -> andislay\n",
    "va_example_4 = \"elegant\" # expected output -> egantelay"
   ]
  },
  {
   "cell_type": "code",
   "execution_count": 20,
   "metadata": {},
   "outputs": [
    {
     "name": "stdout",
     "output_type": "stream",
     "text": [
      "eryevay\n"
     ]
    }
   ],
   "source": [
    "print(pig_latin(va_example_1, 1))"
   ]
  },
  {
   "cell_type": "code",
   "execution_count": 21,
   "metadata": {},
   "outputs": [
    {
     "name": "stdout",
     "output_type": "stream",
     "text": [
      "otheranay\n"
     ]
    }
   ],
   "source": [
    "print(pig_latin(va_example_2, 1))"
   ]
  },
  {
   "cell_type": "code",
   "execution_count": 22,
   "metadata": {},
   "outputs": [
    {
     "name": "stdout",
     "output_type": "stream",
     "text": [
      "andislay\n"
     ]
    }
   ],
   "source": [
    "print(pig_latin(va_example_3, 1))"
   ]
  },
  {
   "cell_type": "code",
   "execution_count": 23,
   "metadata": {},
   "outputs": [
    {
     "name": "stdout",
     "output_type": "stream",
     "text": [
      "egantelay\n"
     ]
    }
   ],
   "source": [
    "print(pig_latin(va_example_4, 1))"
   ]
  },
  {
   "cell_type": "markdown",
   "metadata": {},
   "source": [
    "### Operating with **text sentences**"
   ]
  },
  {
   "cell_type": "code",
   "execution_count": 24,
   "metadata": {},
   "outputs": [],
   "source": [
    "ts_example_1 = \"What's up\" # expected output -> at'sWhay upyay\n",
    "ts_example_2 = \"How are you\" # expected output -> owhay areway ouyay\n",
    "ts_example_3 = \"What are you doing later\" # expected output -> atwhay areway ouyay oingday aterlay\n",
    "ts_example_4 = \"I love you\" # expected output -> iway ovelay ouyay"
   ]
  },
  {
   "cell_type": "code",
   "execution_count": 25,
   "metadata": {},
   "outputs": [
    {
     "name": "stdout",
     "output_type": "stream",
     "text": [
      "at'swhay upway\n"
     ]
    }
   ],
   "source": [
    "print(pig_latin(ts_example_1))"
   ]
  },
  {
   "cell_type": "code",
   "execution_count": 26,
   "metadata": {},
   "outputs": [
    {
     "name": "stdout",
     "output_type": "stream",
     "text": [
      "owhay areway ouyay\n"
     ]
    }
   ],
   "source": [
    "print(pig_latin(ts_example_2))"
   ]
  },
  {
   "cell_type": "code",
   "execution_count": 27,
   "metadata": {},
   "outputs": [
    {
     "name": "stdout",
     "output_type": "stream",
     "text": [
      "atwhay areway ouyay oingday aterlay\n"
     ]
    }
   ],
   "source": [
    "print(pig_latin(ts_example_3))"
   ]
  },
  {
   "cell_type": "code",
   "execution_count": 28,
   "metadata": {},
   "outputs": [
    {
     "name": "stdout",
     "output_type": "stream",
     "text": [
      "iway ovelay ouyay\n"
     ]
    }
   ],
   "source": [
    "print(pig_latin(ts_example_4))"
   ]
  }
 ],
 "metadata": {
  "kernelspec": {
   "display_name": "Python 3",
   "language": "python",
   "name": "python3"
  },
  "language_info": {
   "codemirror_mode": {
    "name": "ipython",
    "version": 3
   },
   "file_extension": ".py",
   "mimetype": "text/x-python",
   "name": "python",
   "nbconvert_exporter": "python",
   "pygments_lexer": "ipython3",
   "version": "3.7.6"
  }
 },
 "nbformat": 4,
 "nbformat_minor": 4
}
