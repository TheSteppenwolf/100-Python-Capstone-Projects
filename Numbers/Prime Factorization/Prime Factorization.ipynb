{
 "cells": [
  {
   "cell_type": "markdown",
   "metadata": {},
   "source": [
    "# Prime Factorization\n",
    "<hr>\n",
    "\n",
    "## Author\n",
    "Sebastián Felipe Tamayo Proaño\n",
    "## Objective\n",
    "Have the user enter a number and find all Prime Factors (if there are any) and display them.\n",
    "## Programming language\n",
    "<ul>\n",
    "    <li>Python</li>\n",
    "</ul>\n",
    "\n",
    "## Libraries"
   ]
  },
  {
   "cell_type": "code",
   "execution_count": 1,
   "metadata": {},
   "outputs": [],
   "source": [
    "# No extra libraries were used"
   ]
  },
  {
   "cell_type": "markdown",
   "metadata": {},
   "source": [
    "## Development\n",
    "For starters we should know that a prime factorization of a number consists on breaking the number down into the set of prime numbers which multiply together to result in the original number.\n",
    "\n",
    "### First approach -- Trial Division\n",
    "For this case, in order to find the prime factors of any number, we have to start by testing each integer to see if and how often it divides that number and their subsequent quotients evenly.\n",
    "\n",
    "For example, lets suppose we want to find the prime factors of 100, for this we should:\n",
    "\n",
    "- $ {100} \\div {2} = 50 $, then, we take 2.\n",
    "- $ {50} \\div {2} = 25 $, then, we take 2.\n",
    "- $ {25} \\div {2} = 12.5 $, then, knowing that it is not evenly divided, we do so with the next highest number.\n",
    "- $ {25} \\div {3} = 8.33 $, then, knowing that it is not evenly divided, we do so with the next highest number.\n",
    "- $ {25} \\div {4} = 6.25 $, then, knowing that it is not evenly divided, we do so with the next highest number.\n",
    "- $ {25} \\div {5} = 5 $, then, we take 5.\n",
    "- $ {5} \\div {5} = 1 $, finally we take 5.\n",
    "\n",
    "The process ends as we reach 1 having the prime factors: $2^2 * 5^2$\n",
    "\n",
    "#### Code:"
   ]
  },
  {
   "cell_type": "markdown",
   "metadata": {},
   "source": [
    "#### Prime factorization by Trial Division returning tuples"
   ]
  },
  {
   "cell_type": "code",
   "execution_count": 2,
   "metadata": {},
   "outputs": [],
   "source": [
    "def get_factor_tuples(prime_factors):\n",
    "    '''\n",
    "    This function returns a list of tuples from a list of prime factos to simulate the visualization of the syntax:\n",
    "        (base, exponent)\n",
    "    '''\n",
    "    # Will save the final list of tuples\n",
    "    tuples_list = []\n",
    "    # It will help at the momento of evaluation of the quantity of a single element at the list.\n",
    "    past = 0\n",
    "    # Generates the tuples and saves them into the list\n",
    "    for x in prime_factors:\n",
    "        # If the last number evaluated is the same of this one, then it omits it.\n",
    "        if x == past:\n",
    "            continue\n",
    "        tuples_list.append((x, prime_factors.count(x)))\n",
    "        past = x\n",
    "    # Returns the tuple list\n",
    "    return tuples_list\n",
    "\n",
    "def trial_primefactor(num):\n",
    "    '''\n",
    "    The function returns a list with the prime factors of a given number by the method of Trial Division.\n",
    "    Each element of the list are tuples which follows the syntax:\n",
    "        (base, exponent)\n",
    "    '''\n",
    "    # Will save the prime factors not converted to the syntax (base, exponent)\n",
    "    prime_factors = []\n",
    "    # Refers to the starting point to evaluate\n",
    "    x = 2\n",
    "    # Validation for 0 or negative numbers\n",
    "    if num < 1:\n",
    "        return []\n",
    "    # Evaluates all factors\n",
    "    while(num != 1):\n",
    "        # If is an even divition, proceed to save x into the list\n",
    "        if num % x == 0:        \n",
    "            num /= x\n",
    "            prime_factors.append(x)\n",
    "        else:            \n",
    "            x += 1  \n",
    "    # Returns the list of factors converted into the syntax (base, exponent)\n",
    "    return get_factor_tuples(prime_factors)"
   ]
  },
  {
   "cell_type": "code",
   "execution_count": 3,
   "metadata": {},
   "outputs": [
    {
     "name": "stdout",
     "output_type": "stream",
     "text": [
      "The factors for 100 are: 2^2 * 5^2.\n"
     ]
    }
   ],
   "source": [
    "# Variables\n",
    "# Num to factorize\n",
    "num = 100\n",
    "\n",
    "# Process\n",
    "factors = trial_primefactor(num)\n",
    "\n",
    "# Output\n",
    "print(f\"The factors for {num} are: \", end=\"\")\n",
    "for factor in factors:\n",
    "    if factor == factors[-1]:\n",
    "        print(f\"{factor[0]}^{factor[1]}.\")\n",
    "    else:\n",
    "        print(f\"{factor[0]}^{factor[1]} * \", end=\"\")"
   ]
  },
  {
   "cell_type": "markdown",
   "metadata": {},
   "source": [
    "<br>\n",
    "\n",
    "**Conclution**:\n",
    "\n",
    "The program does retrive the prime factors following the trial division method working for all numbers except for one less than 1 like 0 or all negative integers."
   ]
  },
  {
   "cell_type": "markdown",
   "metadata": {},
   "source": [
    "### Files\n",
    "You can find the file .py at the following link:\n",
    "- [Prime factorization](https://github.com/TheSteppenwolf/100-Python-Capstone-Projects/blob/master/Numbers/Prime%20Factorization/prime_factorization.py)"
   ]
  }
 ],
 "metadata": {
  "kernelspec": {
   "display_name": "Python 3",
   "language": "python",
   "name": "python3"
  },
  "language_info": {
   "codemirror_mode": {
    "name": "ipython",
    "version": 3
   },
   "file_extension": ".py",
   "mimetype": "text/x-python",
   "name": "python",
   "nbconvert_exporter": "python",
   "pygments_lexer": "ipython3",
   "version": "3.7.6"
  }
 },
 "nbformat": 4,
 "nbformat_minor": 4
}
