{
 "cells": [
  {
   "cell_type": "markdown",
   "metadata": {},
   "source": [
    "# Fibonacci Sequence\n",
    "<hr>\n",
    "\n",
    "## Author\n",
    "Sebastián Felipe Tamayo Proaño\n",
    "## Objective\n",
    "Enter a number and have the program generate the Fibonacci sequence to that number or to the Nth number.\n",
    "## Programming language\n",
    "<ul>\n",
    "    <li>Python</li>\n",
    "</ul>\n",
    "\n",
    "## Libraries"
   ]
  },
  {
   "cell_type": "code",
   "execution_count": 1,
   "metadata": {},
   "outputs": [],
   "source": [
    "# No library were used"
   ]
  },
  {
   "cell_type": "markdown",
   "metadata": {},
   "source": [
    "## Development\n",
    "For starters, we should know that each number of the Fibonacci sequence is the sum of the two preceding ones starting from 0 and 1 respectively. That refers to:\n",
    "\n",
    "$$\n",
    "F_{0} = 0, F_{1}=1 \\to F_{n} = F_{n - 1} + F_{n - 2}\n",
    "$$\n",
    "\n",
    "The sequence should look like:\n",
    "\n",
    "$$\n",
    "0, 1, 1, 2, 3, 5, 8, 13, 21, 34, 55, 89, 144, ...\n",
    "$$\n",
    "\n",
    "### First approach - Returning a list\n",
    "For this code we will return a list with teh Fibonacci sequence."
   ]
  },
  {
   "cell_type": "code",
   "execution_count": 2,
   "metadata": {},
   "outputs": [],
   "source": [
    "def list_fibonacci(max_num):\n",
    "    '''\n",
    "    Returns the fibonacci sequence as a list up to the max number wished\n",
    "    '''\n",
    "    # Saves the sequence | F0 = 0, F1 = 1\n",
    "    sequence = [0, 1]\n",
    "    # Starts the evaluation    \n",
    "    for x in range(2, max_num):\n",
    "        sequence.append(sequence[-1] + sequence[-2])\n",
    "    # Returns the list\n",
    "    return sequence"
   ]
  },
  {
   "cell_type": "code",
   "execution_count": 3,
   "metadata": {},
   "outputs": [
    {
     "name": "stdout",
     "output_type": "stream",
     "text": [
      "Fibonacci sequence up to 20 numbers: 0, 1, 1, 2, 3, 5, 8, 13, 21, 34, 55, 89, 144, 233, 377, 610, 987, 1597, 2584, 4181\n"
     ]
    }
   ],
   "source": [
    "# Variables\n",
    "# Sequence\n",
    "sequence = \"\"\n",
    "# Max number of the sequence\n",
    "max_sequence = 20\n",
    "\n",
    "# Process\n",
    "sequence = \", \".join(map(str, list_fibonacci(max_sequence)))\n",
    "\n",
    "# Output\n",
    "print(f\"Fibonacci sequence up to {max_sequence} numbers: {sequence}\")"
   ]
  },
  {
   "cell_type": "markdown",
   "metadata": {},
   "source": [
    "<br>\n",
    "\n",
    "**Conclution**:\n",
    "\n",
    "Althought the code retrieves the sequence up to the number of numbers wished, it is no efficient at the moment of retrieving more and more numbers, perhaps, it could even appear an error given the data types used to retrieve the sequence when requiring really big numbers. In other hand it is not very memory efficient because we are saving the sequence into a list and it will just keep expanding."
   ]
  },
  {
   "cell_type": "markdown",
   "metadata": {},
   "source": [
    "### Second approach - Generators\n",
    "In this case we will have a function which will yield the next value of the Fibonacci sequence"
   ]
  },
  {
   "cell_type": "code",
   "execution_count": 4,
   "metadata": {},
   "outputs": [],
   "source": [
    "def gen_fibonacci(max_num):\n",
    "    '''\n",
    "    This function works as a generator and yields element by element of the Fibonacci sequence\n",
    "    '''\n",
    "    # F0 = 0, F1 = 1\n",
    "    f1, f2 = 0, 1\n",
    "    for x in range(max_num):\n",
    "        # Yields the next value\n",
    "        yield f1\n",
    "        f1, f2 = f2, f1+f2"
   ]
  },
  {
   "cell_type": "code",
   "execution_count": 5,
   "metadata": {},
   "outputs": [
    {
     "name": "stdout",
     "output_type": "stream",
     "text": [
      "Fibonacci sequence up to 20 numbers: 0, 1, 1, 2, 3, 5, 8, 13, 21, 34, 55, 89, 144, 233, 377, 610, 987, 1597, 2584, 4181\n"
     ]
    }
   ],
   "source": [
    "# Variables\n",
    "# Max number of the sequence\n",
    "max_sequence = 20\n",
    "\n",
    "# Process and output\n",
    "gen = gen_fibonacci(max_sequence)\n",
    "print(f\"Fibonacci sequence up to {max_sequence} numbers: \", end=\"\")\n",
    "for x in range(max_sequence):\n",
    "    if x == max_sequence - 1:\n",
    "        print(f\"{next(gen)}\")\n",
    "    else:\n",
    "        print(f\"{next(gen)}, \", end=\"\")"
   ]
  },
  {
   "cell_type": "markdown",
   "metadata": {},
   "source": [
    "<br>\n",
    "\n",
    "**Conclution**:\n",
    "\n",
    "This method gets the Fibonacci sequence but also is memory efficient because we are not using any type of data to save the values of the sequence. "
   ]
  },
  {
   "cell_type": "markdown",
   "metadata": {},
   "source": [
    "### Third approach - Recursion\n",
    "For this case we will retrieve the Fibonacci sequence but throught a recursive function in two cases:\n",
    "\n",
    "- One to retrive the number at a single point of the sequence.\n",
    "- One to retrieve the entire sequence to the point wanted."
   ]
  },
  {
   "cell_type": "markdown",
   "metadata": {},
   "source": [
    "#### Retrieve the number at a single point of the Fibonacci sequence"
   ]
  },
  {
   "cell_type": "code",
   "execution_count": 6,
   "metadata": {},
   "outputs": [],
   "source": [
    "def fibonacci_recursive_onpoint(max_num, f1=0, f2=1):\n",
    "    '''\n",
    "    This function returns a single value corresponding at the position in the Fibonacci sequence\n",
    "    '''\n",
    "    # Ends the recursive function\n",
    "    if max_num < 2:\n",
    "        return f1\n",
    "    # Continue to evaluate the next position of the sequence\n",
    "    return fibonacci_recursive_onpoint(max_num-1, f2, f1+f2)"
   ]
  },
  {
   "cell_type": "code",
   "execution_count": 7,
   "metadata": {},
   "outputs": [
    {
     "name": "stdout",
     "output_type": "stream",
     "text": [
      "Fibonacci sequence at the 20 position: 4181\n"
     ]
    }
   ],
   "source": [
    "# The position to get the value from the sequence\n",
    "max_position = 20\n",
    "\n",
    "# Output\n",
    "print(f\"Fibonacci sequence at the {max_position} position: {fibonacci_recursive_onpoint(20)}\")"
   ]
  },
  {
   "cell_type": "markdown",
   "metadata": {},
   "source": [
    "#### Retrieve the entire sequence to the point wanted"
   ]
  },
  {
   "cell_type": "code",
   "execution_count": 8,
   "metadata": {},
   "outputs": [],
   "source": [
    "def fibonacci_recursive_topoint(max_num, sequence=[]):\n",
    "    '''\n",
    "    This functions return the entire sequence up to the position wanted by recursion.\n",
    "    '''\n",
    "    # Ends the recursive function\n",
    "    if max_num == 2:\n",
    "        return sequence\n",
    "    # F0 = 0, F1 = 1    \n",
    "    if len(sequence) == 0:\n",
    "        sequence = [0, 1]\n",
    "    # Evaluates the next position of the sequence\n",
    "    sequence.append(sequence[-1]+sequence[-2])\n",
    "    return fibonacci_recursive_topoint(max_num-1, sequence)"
   ]
  },
  {
   "cell_type": "code",
   "execution_count": 9,
   "metadata": {},
   "outputs": [
    {
     "name": "stdout",
     "output_type": "stream",
     "text": [
      "Fibonacci sequence up to 20 numbers: 0, 1, 1, 2, 3, 5, 8, 13, 21, 34, 55, 89, 144, 233, 377, 610, 987, 1597, 2584, 4181\n"
     ]
    }
   ],
   "source": [
    "# Variables\n",
    "# Max number of the sequence\n",
    "max_sequence = 20\n",
    "\n",
    "# We take it as a string to ease the printing\n",
    "temp = \", \".join(map(str, fibonacci_recursive_topoint(20)))\n",
    "\n",
    "# Output\n",
    "print(f\"Fibonacci sequence up to {max_sequence} numbers: {temp}\")"
   ]
  },
  {
   "cell_type": "markdown",
   "metadata": {},
   "source": [
    "## Files:\n",
    "You can find the file .py for the approaches to retrieve the Fibonacci sequence at:\n",
    "- [Fibonacci sequence](https://github.com/TheSteppenwolf/100-Python-Capstone-Projects/blob/master/Numbers/Fibonacci%20Sequence/fibonacci.py)"
   ]
  }
 ],
 "metadata": {
  "kernelspec": {
   "display_name": "Python 3",
   "language": "python",
   "name": "python3"
  },
  "language_info": {
   "codemirror_mode": {
    "name": "ipython",
    "version": 3
   },
   "file_extension": ".py",
   "mimetype": "text/x-python",
   "name": "python",
   "nbconvert_exporter": "python",
   "pygments_lexer": "ipython3",
   "version": "3.7.6"
  }
 },
 "nbformat": 4,
 "nbformat_minor": 4
}
