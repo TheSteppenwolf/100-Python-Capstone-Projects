{
 "cells": [
  {
   "cell_type": "markdown",
   "metadata": {},
   "source": [
    "# Find PI to the Nth Digit\n",
    "<hr>\n",
    "\n",
    "## Author\n",
    "Sebastián Felipe Tamayo Proaño\n",
    "## Objective\n",
    "Enter a number and have the program generate π (pi) up to that many decimal places. Keep a limit to how far the program will go.\n",
    "## Programming language\n",
    "<ul>\n",
    "    <li>Python</li>\n",
    "</ul>\n",
    "\n",
    "## Libraries"
   ]
  },
  {
   "cell_type": "code",
   "execution_count": 1,
   "metadata": {},
   "outputs": [],
   "source": [
    "# We import datetime to watch de execution time of the codes\n",
    "import datetime"
   ]
  },
  {
   "cell_type": "markdown",
   "metadata": {},
   "source": [
    "## Development\n",
    "### First approach - Leibniz Series\n",
    "For our first approach to calculate the Nth digit of PI we will use the Gregory-Leibniz series, but, althought it is very simple its not efficient, in fact for 5 decimal places of PI you will have to do 500000 iterations.\n",
    "\n",
    "**This series can be express as**:\n",
    "\n",
    "$$\n",
    "\\sum_{n=0}^{\\infty} \\frac{(-1)^n}{2n + 1} = \\frac{\\Pi}{4}\n",
    "$$\n",
    "\n",
    "**or as**:\n",
    "\n",
    "$$\n",
    "1 - \\frac{1}{3} + \\frac{1}{5} - \\frac{1}{7} + \\frac{1}{9} - ... = \\frac{\\Pi}{4}\n",
    "$$\n",
    "\n",
    "**Code**:"
   ]
  },
  {
   "cell_type": "code",
   "execution_count": 2,
   "metadata": {},
   "outputs": [
    {
     "name": "stdout",
     "output_type": "stream",
     "text": [
      "pi: 3.14159\n",
      "Tiempo de ejecución: 1.6256499999999998ms\n"
     ]
    }
   ],
   "source": [
    "# Max iterations wanted to upgrade the precisión on finding Pi\n",
    "iterations = 500000\n",
    "# Number of digits wanted\n",
    "n = 5\n",
    "# Value of pi given n\n",
    "pi = 0.\n",
    "# The denominator part\n",
    "den = 0\n",
    "\n",
    "# Starting time to gather the execution time\n",
    "start_time = datetime.datetime.now()\n",
    "# The Gregory-Leibniz Series\n",
    "for x in range(iterations):\n",
    "    den = 2 * x + 1\n",
    "    if x % 2 == 0:\n",
    "        pi += 1 / den\n",
    "    else:\n",
    "        pi -= 1 / den\n",
    "        \n",
    "# Remembering that the Leibniz Series ends with Pi/4\n",
    "pi *= 4\n",
    "# Ending time to gather the execution time\n",
    "end_time = datetime.datetime.now()\n",
    "\n",
    "# Output\n",
    "print(\"pi: \" + format(pi,f\".{n+1}\"))\n",
    "print(f\"Tiempo de ejecución: {(end_time - start_time).total_seconds() * 10}ms\")"
   ]
  },
  {
   "cell_type": "markdown",
   "metadata": {},
   "source": [
    "<br>\n",
    "\n",
    "**Conclutions**:\n",
    "\n",
    "The code following the Leibniz Series may give the value of Pi, althought, to make it return an accurate value of Pi we need to make multiple iterations such the case that to get more accurate digits we will need more and more iterations to make the model more precise.\n",
    "\n",
    "For the example, it was required 500000 iterations to get the value of pi up to 5 decimals."
   ]
  },
  {
   "cell_type": "markdown",
   "metadata": {},
   "source": [
    "### Second approach - Nilakantha Series\n",
    "Althought is fairly easy to understand is more complicated, but, it converges on Pi much quicker than the Leibniz formula.\n",
    "\n",
    "**The series can be expressed as**:\n",
    "\n",
    "$$\n",
    "\\Pi = 3 + \\frac{4}{2 * 3 * 4} - \\frac{4}{4 * 5 * 6} + \\frac{4}{6 * 7 * 8} - \\frac{4}{8 * 9 * 10} + ...\n",
    "$$\n",
    "\n",
    "**Or as**:\n",
    "\n",
    "$$\n",
    "3 + 4 * \\sum_{j=1}^{\\infty}\\frac{(-1)^{j+1}}{2j*(2j+1)(2j+2)}\n",
    "$$\n",
    "\n",
    "**Code**:"
   ]
  },
  {
   "cell_type": "code",
   "execution_count": 3,
   "metadata": {},
   "outputs": [
    {
     "name": "stdout",
     "output_type": "stream",
     "text": [
      "pi: 3.14159\n",
      "Tiempo de ejecución: 0.0ms\n"
     ]
    }
   ],
   "source": [
    "# Number of iterations to make the model more precise\n",
    "iterations = 50\n",
    "# Number of digits wanted\n",
    "n = 5\n",
    "# Value of pi given n \n",
    "pi = 0\n",
    "# Denominator\n",
    "den = 0\n",
    "\n",
    "# Starting time to gather the execution time\n",
    "start_time = datetime.datetime.now()\n",
    "# The Nilakantha Series\n",
    "for x in range(iterations):    \n",
    "    if x == 0: pi += 3\n",
    "    else:\n",
    "        den = (2*x) * (2*x + 1) * (2*x + 2)\n",
    "        if x % 2 == 0:\n",
    "            pi -= 4 / den\n",
    "        else:\n",
    "            pi += 4 / den   \n",
    "# Ending time to gather the execution time\n",
    "end_time = datetime.datetime.now()\n",
    "\n",
    "# Output\n",
    "print(\"pi: \" + format(pi,f\".{n+1}\"))\n",
    "print(f\"Tiempo de ejecución: {(end_time - start_time).total_seconds() * 10}ms\")"
   ]
  },
  {
   "cell_type": "markdown",
   "metadata": {},
   "source": [
    "<br>\n",
    "\n",
    "**Conclutions**:\n",
    "\n",
    "The code following the Nilakantha Series may return the value of Pi but, even though it also require many iterations to improve its precision, it is highly faster than the Leibniz Series.\n",
    "\n",
    "For the example, it was required 50 iterations to get the value of pi up to 5 decimals."
   ]
  },
  {
   "cell_type": "markdown",
   "metadata": {},
   "source": [
    "## Files\n",
    "You can find the files .py with the source code of Leibniz Series as well as the Nilakantha Series in the following links:\n",
    "\n",
    "- [Leibniz Series](https://github.com/TheSteppenwolf/100-Python-Capstone-Projects/blob/master/Numbers/Find%20PI%20to%20the%20Nth%20Digit/leibniz.py)\n",
    "\n",
    "- [Nilakantha Series](https://github.com/TheSteppenwolf/100-Python-Capstone-Projects/blob/master/Numbers/Find%20PI%20to%20the%20Nth%20Digit/nilakantha.py)"
   ]
  }
 ],
 "metadata": {
  "kernelspec": {
   "display_name": "Python 3",
   "language": "python",
   "name": "python3"
  },
  "language_info": {
   "codemirror_mode": {
    "name": "ipython",
    "version": 3
   },
   "file_extension": ".py",
   "mimetype": "text/x-python",
   "name": "python",
   "nbconvert_exporter": "python",
   "pygments_lexer": "ipython3",
   "version": "3.7.6"
  }
 },
 "nbformat": 4,
 "nbformat_minor": 4
}
