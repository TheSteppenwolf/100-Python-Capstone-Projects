{
 "cells": [
  {
   "cell_type": "markdown",
   "metadata": {},
   "source": [
    "# Find e to the Nth Digit\n",
    "<hr>\n",
    "\n",
    "## Author\n",
    "Sebastián Felipe Tamayo Proaño\n",
    "## Objective\n",
    "Just like finding Pi to the Nth digit, but with e instead of π (pi). Enter a number and have the program generate e up to that many decimal places. Keep a limit to how far the program will go.\n",
    "## Programming language\n",
    "<ul>\n",
    "    <li>Python</li>\n",
    "</ul>\n",
    "\n",
    "## Libraries"
   ]
  },
  {
   "cell_type": "code",
   "execution_count": 1,
   "metadata": {},
   "outputs": [],
   "source": [
    "# No libraries were used"
   ]
  },
  {
   "cell_type": "markdown",
   "metadata": {},
   "source": [
    "## Development\n",
    "Althought there are many ways of calculating the value of e, none of them ever give the totally exact answer because e is irrational and its digits go on forever without repeating.\n",
    "\n",
    "The value of e with its first few digits is:\n",
    "\n",
    "$$\n",
    "2,7182818284590452353602874713527...\n",
    "$$\n",
    "\n",
    "### First approach - $ \\lim_{n \\to \\infty}(1 + \\frac{1}{n})^n $\n",
    "The value of e can be calculated with:\n",
    "\n",
    "$$\n",
    "\\lim_{n \\to \\infty}(1 + \\frac{1}{n})^n = e\n",
    "$$\n",
    "\n",
    "As n approaches infinity\n",
    "\n",
    "**Code**:"
   ]
  },
  {
   "cell_type": "code",
   "execution_count": 2,
   "metadata": {},
   "outputs": [
    {
     "name": "stdout",
     "output_type": "stream",
     "text": [
      "e: 2.718281\n"
     ]
    }
   ],
   "source": [
    "# The value of e\n",
    "e = 0\n",
    "# The value of n which is used to aproximate e\n",
    "n = 2000000\n",
    "# Number of digits wanted\n",
    "digits = 6\n",
    "\n",
    "# Limit of (1 + 1/n)^n\n",
    "e = pow(1 + (1 / n),n)\n",
    "\n",
    "# Output\n",
    "print(f\"e: %.{digits}f\"%(e))"
   ]
  },
  {
   "cell_type": "markdown",
   "metadata": {},
   "source": [
    "<br>\n",
    "\n",
    "**Conclutions**:\n",
    "\n",
    "The code following the $\\lim_{n \\to \\infty}(1 + \\frac{1}{n})^n$ can approach to the value of e while n approaches infinity, as the example shown in the code, we needed n as a value of 2000000 to get the value of e up to 6 digits.\n"
   ]
  },
  {
   "cell_type": "markdown",
   "metadata": {},
   "source": [
    "### Second approach - Sum of infinite series\n",
    "The value of e can also be calculated by the sum of the infinite series:\n",
    "\n",
    "$$\n",
    "e = \\sum_{n=0}^{\\infty}\\frac{1}{n!} = 1 + \\frac{1}{1} + \\frac{1}{1 * 2} + \\frac{1}{1 * 2 * 3} + ...\n",
    "$$\n",
    "\n",
    "**Code**:"
   ]
  },
  {
   "cell_type": "code",
   "execution_count": 3,
   "metadata": {},
   "outputs": [],
   "source": [
    "# Function that return the factorial of a given number\n",
    "def factorial(num, result=1):\n",
    "    if num == 0:\n",
    "        return result\n",
    "    return factorial(num-1, result * num)"
   ]
  },
  {
   "cell_type": "code",
   "execution_count": 4,
   "metadata": {},
   "outputs": [
    {
     "name": "stdout",
     "output_type": "stream",
     "text": [
      "e: 2.718282\n"
     ]
    }
   ],
   "source": [
    "# The value of e\n",
    "e = 0\n",
    "# The value of n which is used to approximate the value of e\n",
    "n = 10\n",
    "# Number of digits wanted\n",
    "digits = 6\n",
    "\n",
    "# Sum of infinite series\n",
    "for x in range(n):\n",
    "    e += 1/factorial(x)\n",
    "    \n",
    "# Output\n",
    "print(f\"e: %.{digits}f\"%(e))"
   ]
  },
  {
   "cell_type": "markdown",
   "metadata": {},
   "source": [
    "<br>\n",
    "\n",
    "**Conclutions**:\n",
    "\n",
    "The code following the sum of the infinite series $$ e = \\sum_{n=0}^{\\infty}\\frac{1}{n!} = 1 + \\frac{1}{1} + \\frac{1}{1 * 2} + \\frac{1}{1 * 2 * 3} + ... $$ can approach to the value of e faster than the first approach beacuse, as the example shown in the code, we needed n as a value of 10 to get the value of e up to 6 digits."
   ]
  },
  {
   "cell_type": "markdown",
   "metadata": {},
   "source": [
    "## Files\n",
    "You can find the files .py of both approaches in the following links:\n",
    "- [Limit of (1 + 1/n)^n](https://github.com/TheSteppenwolf/100-Python-Capstone-Projects/blob/master/Numbers/Find%20e%20to%20the%20Nth%20Digit/inifinite_series.py)\n",
    "- [Sum of infinite series 1/n!](https://github.com/TheSteppenwolf/100-Python-Capstone-Projects/blob/master/Numbers/Find%20e%20to%20the%20Nth%20Digit/inifinite_series.py)"
   ]
  }
 ],
 "metadata": {
  "kernelspec": {
   "display_name": "Python 3",
   "language": "python",
   "name": "python3"
  },
  "language_info": {
   "codemirror_mode": {
    "name": "ipython",
    "version": 3
   },
   "file_extension": ".py",
   "mimetype": "text/x-python",
   "name": "python",
   "nbconvert_exporter": "python",
   "pygments_lexer": "ipython3",
   "version": "3.7.6"
  }
 },
 "nbformat": 4,
 "nbformat_minor": 4
}
