{
 "cells": [
  {
   "cell_type": "markdown",
   "metadata": {},
   "source": [
    "# Count Words\n",
    "<hr>\n",
    "\n",
    "## Author\n",
    "Sebastián Felipe Tamayo Proaño\n",
    "## Objective\n",
    "Counts the number of individual words in a string reading from a text file and generate a summary.\n",
    "## Programming language\n",
    "<ul>\n",
    "    <li>Python</li>\n",
    "</ul>\n",
    "\n",
    "## Libraries:"
   ]
  },
  {
   "cell_type": "markdown",
   "metadata": {},
   "source": [
    "There were no use of external libraries"
   ]
  },
  {
   "cell_type": "markdown",
   "metadata": {},
   "source": [
    "## Code:"
   ]
  },
  {
   "cell_type": "code",
   "execution_count": 1,
   "metadata": {},
   "outputs": [],
   "source": [
    "def count_words(filepath):\n",
    "    '''\n",
    "    The function will count the words in a .txt file and create a new .txt file with a summary with the total of the words found.\n",
    "    The function will return:\n",
    "        -1: If the file wasn't found.\n",
    "         1: If the operation was run correctly.\n",
    "    '''\n",
    "    # Evaluates if the file exist, if doesn't, returns a -1.\n",
    "    try:\n",
    "        with open(filepath, \"r\") as txt_file:\n",
    "            txt = txt_file.read()\n",
    "    except:\n",
    "        return -1\n",
    "    # We make a list out of the words in the file.\n",
    "    txt_list = txt.split()\n",
    "    # We write the summary in a new file.\n",
    "    with open(\"summary.txt\", \"w\") as summary:\n",
    "        summary.write(\"Total words in the document: {}\".format(len(txt_list)))\n",
    "    # We return a 1 in order to clarify that the operation was succesful.\n",
    "    return 1"
   ]
  },
  {
   "cell_type": "markdown",
   "metadata": {},
   "source": [
    "## Example:\n",
    "### First we will create a new text file to operate with it"
   ]
  },
  {
   "cell_type": "code",
   "execution_count": 2,
   "metadata": {},
   "outputs": [],
   "source": [
    "with open(\"new_txt_file.txt\", \"w\") as new_file:\n",
    "    text = \"Hello World! This is a new .txt file in which we will use it to operate with out function!\"\n",
    "    new_file.write(text)"
   ]
  },
  {
   "cell_type": "markdown",
   "metadata": {},
   "source": [
    "### Now, lets operate with the function"
   ]
  },
  {
   "cell_type": "code",
   "execution_count": 3,
   "metadata": {},
   "outputs": [
    {
     "data": {
      "text/plain": [
       "1"
      ]
     },
     "execution_count": 3,
     "metadata": {},
     "output_type": "execute_result"
    }
   ],
   "source": [
    "count_words(\"new_txt_file.txt\")"
   ]
  },
  {
   "cell_type": "code",
   "execution_count": 4,
   "metadata": {},
   "outputs": [
    {
     "data": {
      "text/plain": [
       "-1"
      ]
     },
     "execution_count": 4,
     "metadata": {},
     "output_type": "execute_result"
    }
   ],
   "source": [
    "count_words(\"dont_exist.txt\")"
   ]
  },
  {
   "cell_type": "markdown",
   "metadata": {},
   "source": [
    "### Lets see the new file output"
   ]
  },
  {
   "cell_type": "code",
   "execution_count": 5,
   "metadata": {},
   "outputs": [
    {
     "name": "stdout",
     "output_type": "stream",
     "text": [
      "Total words in the document: 19\n"
     ]
    }
   ],
   "source": [
    "with open(\"summary.txt\", \"r\") as summary:\n",
    "    words = summary.read()\n",
    "print(words)"
   ]
  }
 ],
 "metadata": {
  "kernelspec": {
   "display_name": "Python 3",
   "language": "python",
   "name": "python3"
  },
  "language_info": {
   "codemirror_mode": {
    "name": "ipython",
    "version": 3
   },
   "file_extension": ".py",
   "mimetype": "text/x-python",
   "name": "python",
   "nbconvert_exporter": "python",
   "pygments_lexer": "ipython3",
   "version": "3.7.6"
  }
 },
 "nbformat": 4,
 "nbformat_minor": 4
}
