{
 "cells": [
  {
   "cell_type": "markdown",
   "metadata": {},
   "source": [
    "# Count Vowels\n",
    "<hr>\n",
    "\n",
    "## Author\n",
    "Sebastián Felipe Tamayo Proaño\n",
    "## Objective\n",
    "Enter a string, the program will analyze the number of repetition of each vowels as well as the total vowels found.\n",
    "## Programming language\n",
    "<ul>\n",
    "    <li>Python</li>\n",
    "</ul>\n",
    "\n",
    "## Libraries:"
   ]
  },
  {
   "cell_type": "code",
   "execution_count": 1,
   "metadata": {},
   "outputs": [],
   "source": [
    "from collections import Counter"
   ]
  },
  {
   "cell_type": "markdown",
   "metadata": {},
   "source": [
    "## Code:"
   ]
  },
  {
   "cell_type": "code",
   "execution_count": 2,
   "metadata": {},
   "outputs": [],
   "source": [
    "# Global variable that defines all vowels.\n",
    "VOWELS = [\"A\",\"E\",\"I\",\"O\",\"U\"]"
   ]
  },
  {
   "cell_type": "code",
   "execution_count": 3,
   "metadata": {},
   "outputs": [],
   "source": [
    "def count_vowels(text):\n",
    "    '''\n",
    "    The function returns a tuple with two elements:\n",
    "        1. List: This list contains tuples with all vowel found and how many time they appeared in the text.\n",
    "        2. Integer: Corresponds to the total of vowels found.\n",
    "    '''\n",
    "    # Creates a list only with the vowels in the text as uppercase.\n",
    "    text_list = [x for x in text.upper() if x in VOWELS]\n",
    "    # We order the list so it looks nice.\n",
    "    text_list.sort()\n",
    "    # Creates a list of tuples with the vowels as the first element and the times they appeared as its second element.\n",
    "    vowels_found = Counter(text_list)\n",
    "    # Sum the total of vowels found.\n",
    "    total_vowels = sum(vowels_found.values())\n",
    "    return (vowels_found.most_common(), total_vowels)"
   ]
  },
  {
   "cell_type": "markdown",
   "metadata": {},
   "source": [
    "## Examples:"
   ]
  },
  {
   "cell_type": "code",
   "execution_count": 4,
   "metadata": {},
   "outputs": [],
   "source": [
    "example_text = \"Hello this is an example text\" # Expected -> A: 2, E: 4, I: 2, O: 1, U: 0, total: 9"
   ]
  },
  {
   "cell_type": "code",
   "execution_count": 5,
   "metadata": {},
   "outputs": [
    {
     "name": "stdout",
     "output_type": "stream",
     "text": [
      "The total of each vowel are: \n",
      "\tE: 4\n",
      "\tA: 2\n",
      "\tI: 2\n",
      "\tO: 1\n",
      "The total of vowels found in the text were: 9\n"
     ]
    }
   ],
   "source": [
    "vowels, total = count_vowels(example_text)\n",
    "print(\"The total of each vowel are: \")\n",
    "for vowel, count in vowels:\n",
    "    print(f\"\\t{vowel}: {count}\")\n",
    "print(f\"The total of vowels found in the text were: {total}\")"
   ]
  }
 ],
 "metadata": {
  "kernelspec": {
   "display_name": "Python 3",
   "language": "python",
   "name": "python3"
  },
  "language_info": {
   "codemirror_mode": {
    "name": "ipython",
    "version": 3
   },
   "file_extension": ".py",
   "mimetype": "text/x-python",
   "name": "python",
   "nbconvert_exporter": "python",
   "pygments_lexer": "ipython3",
   "version": "3.7.6"
  }
 },
 "nbformat": 4,
 "nbformat_minor": 4
}
